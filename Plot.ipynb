{
 "cells": [
  {
   "cell_type": "code",
   "execution_count": 41,
   "metadata": {
    "collapsed": false
   },
   "outputs": [],
   "source": [
    "from pandas import *\n",
    "import matplotlib.pyplot as plt\n",
    "plt.style.use('ggplot')\n",
    "from bokeh.models import Legend\n",
    "from bokeh.plotting import figure, show, output_file"
   ]
  },
  {
   "cell_type": "code",
   "execution_count": 42,
   "metadata": {
    "collapsed": false
   },
   "outputs": [],
   "source": [
    "x_ax = np.arange(0,10)\n",
    "ys = [[96,124,96,92,80,76,80,76,92,116],[92,100,80,80,84,76,92,92,92,76],[108,84,80,84,72,84,84,92,68,80]]"
   ]
  },
  {
   "cell_type": "code",
   "execution_count": 44,
   "metadata": {
    "collapsed": false
   },
   "outputs": [],
   "source": [
    "def generate_graphic(x, ys):\n",
    "    p1 = figure(width=700, height=300, title='Benchmark Blind Search Algorithms')\n",
    "    p1.grid.grid_line_alpha=0.3\n",
    "    p1.xaxis.axis_label = 'Problems'\n",
    "    p1.yaxis.axis_label = 'Time (ms)'\n",
    "\n",
    "    l1 = p1.line(x, ys[0], color='blue')\n",
    "    l2 = p1.line(x, ys[1], color='red')\n",
    "    l3 = p1.line(x, ys[2], color='black')\n",
    "    legend = Legend(items=[\n",
    "        (\"BFS\", [l1]),\n",
    "        (\"DFS\", [l2]),\n",
    "        (\"UCS\", [l3])\n",
    "    ], location=(10,0))\n",
    "    p1.add_layout(legend, 'right')\n",
    "    show(p1)"
   ]
  },
  {
   "cell_type": "code",
   "execution_count": null,
   "metadata": {
    "collapsed": true
   },
   "outputs": [],
   "source": [
    "generate_graphic(x_ax, ys)"
   ]
  }
 ],
 "metadata": {
  "kernelspec": {
   "display_name": "Python 3",
   "language": "python",
   "name": "python3"
  },
  "language_info": {
   "codemirror_mode": {
    "name": "ipython",
    "version": 3
   },
   "file_extension": ".py",
   "mimetype": "text/x-python",
   "name": "python",
   "nbconvert_exporter": "python",
   "pygments_lexer": "ipython3",
   "version": "3.6.0"
  }
 },
 "nbformat": 4,
 "nbformat_minor": 2
}
